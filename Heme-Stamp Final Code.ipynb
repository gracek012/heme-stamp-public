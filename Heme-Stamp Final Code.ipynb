{
 "cells": [
  {
   "cell_type": "code",
   "execution_count": 1,
   "metadata": {},
   "outputs": [],
   "source": [
    "from IPython.core.interactiveshell import InteractiveShell\n",
    "InteractiveShell.ast_node_interactivity = \"all\"\n",
    "\n",
    "import numpy as np\n",
    "import matplotlib.pyplot as plt\n",
    "from matplotlib import rcParams\n",
    "from sklearn.metrics import confusion_matrix, accuracy_score, roc_auc_score\n",
    "from xgboost import XGBClassifier\n",
    "import csv"
   ]
  },
  {
   "cell_type": "code",
   "execution_count": 2,
   "metadata": {},
   "outputs": [],
   "source": [
    "def loadData(path):\n",
    "    with open(path, 'r') as f:\n",
    "        A = csv.reader(f)\n",
    "        temp = list(A)\n",
    "    # print(temp[0])\n",
    "    feature_labels = temp[0]\n",
    "    np_all = np.array(temp[1:])\n",
    "    N,p = np_all.shape[0], np_all.shape[0]-1\n",
    "    return temp, np_all, feature_labels"
   ]
  },
  {
   "cell_type": "code",
   "execution_count": 3,
   "metadata": {},
   "outputs": [],
   "source": [
    "def processData(np_all):\n",
    "    np.random.shuffle(np_all)\n",
    "    X_all = np_all[:,3:].astype(float)\n",
    "    Y_all = np_all[:,1].astype(float).astype(int)\n",
    "    return X_all, Y_all"
   ]
  },
  {
   "cell_type": "code",
   "execution_count": 4,
   "metadata": {},
   "outputs": [],
   "source": [
    "def predict_model(X_train, Y_train , X_test, Y_test):\n",
    "    eval_set = [(X_test, Y_test)]\n",
    "    clf = XGBClassifier(n_estimators = 300, learning_rate = 0.03, max_depth=5, subsample = 0.5)\n",
    "    clf.fit(X_train, Y_train, early_stopping_rounds=20, eval_metric=\"logloss\", eval_set=eval_set, verbose=False)\n",
    "    Y_pred = clf.predict(X_test)\n",
    "    Y_pred_prob = clf.predict_proba(X_test)[:,1]\n",
    "    return Y_pred, Y_pred_prob"
   ]
  },
  {
   "cell_type": "code",
   "execution_count": 5,
   "metadata": {},
   "outputs": [],
   "source": [
    "def get_TNR(x, Y_test, Y_pred_prob):\n",
    "    num = 100\n",
    "    Thr = np.linspace(0.01,0.99,num = num)\n",
    "    NPV_vec= np.zeros(num)\n",
    "    TNR_vec = np.zeros(num)\n",
    "    y = 0\n",
    "\n",
    "    for i in range(num):\n",
    "        Y_pred_2 = (Y_pred_prob >= Thr[i] ).astype(bool)\n",
    "        tn, fp, fn, tp = confusion_matrix(Y_test, Y_pred_2).ravel()\n",
    "        NPV_vec[i] = tn/(fn+tn)\n",
    "        TNR_vec[i] = tn/(tn+fp)\n",
    "        if  NPV_vec[i] >= x and TNR_vec[i]>=y:\n",
    "            y= TNR_vec[i]\n",
    "    return y"
   ]
  },
  {
   "cell_type": "code",
   "execution_count": 6,
   "metadata": {},
   "outputs": [],
   "source": [
    "def get_TNR_vec(x,N, np_train, np_test):\n",
    "    \n",
    "    TNR = np.zeros(N)\n",
    "    \n",
    "    for i in range(N):\n",
    "        X_train, Y_train = processData(np_train)\n",
    "        X_test, Y_test = processData(np_test)\n",
    "\n",
    "        Y_pred, Y_pred_prob = predict_model(X_train, Y_train , X_test, Y_test)\n",
    "\n",
    "        TNR[i]= get_TNR(x, Y_test, Y_pred_prob)\n",
    "\n",
    "    A = TNR[np.nonzero(TNR)[0]]\n",
    "    return np.mean(A)"
   ]
  },
  {
   "cell_type": "code",
   "execution_count": 7,
   "metadata": {},
   "outputs": [
    {
     "name": "stdout",
     "output_type": "stream",
     "text": [
      "Accuracy: 70.16%\n",
      "AUC: 77.20%\n"
     ]
    }
   ],
   "source": [
    "temp, np_train, feature_labels = loadData('/Users/g0123/Documents/Heme-STAMP/blood_leuk_mds_train3.csv')\n",
    "temp, np_test, feature_labels = loadData('/Users/g0123/Documents/Heme-STAMP/blood_leuk_mds_test3.csv')\n",
    "\n",
    "#Shuffle Data\n",
    "X_train, Y_train = processData(np_train)\n",
    "X_test, Y_test = processData(np_test)\n",
    "        \n",
    "Y_pred, Y_pred_prob = predict_model(X_train, Y_train , X_test, Y_test)\n",
    "accuracy = accuracy_score(Y_test, Y_pred)\n",
    "auc = roc_auc_score(Y_test, Y_pred_prob)\n",
    "print(\"Accuracy: %.2f%%\" % (accuracy * 100.0))\n",
    "print(\"AUC: %.2f%%\" % (auc * 100.0))"
   ]
  },
  {
   "cell_type": "code",
   "execution_count": 12,
   "metadata": {},
   "outputs": [
    {
     "name": "stderr",
     "output_type": "stream",
     "text": [
      "/Users/g0123/opt/anaconda3/lib/python3.7/site-packages/ipykernel_launcher.py:11: RuntimeWarning: invalid value encountered in long_scalars\n",
      "  # This is added back by InteractiveShellApp.init_path()\n"
     ]
    },
    {
     "data": {
      "text/plain": [
       "[<matplotlib.lines.Line2D at 0x7fd27299a290>]"
      ]
     },
     "execution_count": 12,
     "metadata": {},
     "output_type": "execute_result"
    },
    {
     "data": {
      "text/plain": [
       "Text(0.5, 0, 'NPV')"
      ]
     },
     "execution_count": 12,
     "metadata": {},
     "output_type": "execute_result"
    },
    {
     "data": {
      "text/plain": [
       "Text(0, 0.5, 'TNR')"
      ]
     },
     "execution_count": 12,
     "metadata": {},
     "output_type": "execute_result"
    },
    {
     "data": {
      "image/png": "[encoded data removed]",
      "text/plain": [
       "<Figure size 432x288 with 1 Axes>"
      ]
     },
     "metadata": {
      "needs_background": "light"
     },
     "output_type": "display_data"
    }
   ],
   "source": [
    "NPV= np.linspace(0.0,1.0, 20)\n",
    "TNR = np.zeros(20)\n",
    "for i in range(NPV.shape[0]):\n",
    "    TNR[i] = get_TNR_vec(NPV[i],50, np_train, np_test)\n",
    "rcParams['font.family'] = 'serif'\n",
    "rcParams.update({'font.size': 12})\n",
    "plt.rcParams['axes.labelweight'] = 'bold'\n",
    "\n",
    "plt.plot(NPV,TNR)\n",
    "plt.xlabel('NPV')\n",
    "plt.ylabel('TNR')\n",
    "plt.show()"
   ]
  },
  {
   "cell_type": "code",
   "execution_count": 13,
   "metadata": {},
   "outputs": [
    {
     "data": {
      "text/plain": [
       "array([0.        , 0.05263158, 0.10526316, 0.15789474, 0.21052632,\n",
       "       0.26315789, 0.31578947, 0.36842105, 0.42105263, 0.47368421,\n",
       "       0.52631579, 0.57894737, 0.63157895, 0.68421053, 0.73684211,\n",
       "       0.78947368, 0.84210526, 0.89473684, 0.94736842, 1.        ])"
      ]
     },
     "execution_count": 13,
     "metadata": {},
     "output_type": "execute_result"
    },
    {
     "data": {
      "text/plain": [
       "array([1.        , 1.        , 1.        , 1.        , 1.        ,\n",
       "       1.        , 1.        , 1.        , 1.        , 1.        ,\n",
       "       0.98310811, 0.93554054, 0.83837838, 0.68810811, 0.40148649,\n",
       "       0.25378378, 0.20554054, 0.14905405, 0.0984556 , 0.03347666])"
      ]
     },
     "execution_count": 13,
     "metadata": {},
     "output_type": "execute_result"
    }
   ],
   "source": [
    "NPV\n",
    "TNR"
   ]
  },
  {
   "cell_type": "code",
   "execution_count": 14,
   "metadata": {},
   "outputs": [
    {
     "name": "stderr",
     "output_type": "stream",
     "text": [
      "/Users/g0123/opt/anaconda3/lib/python3.7/site-packages/ipykernel_launcher.py:11: RuntimeWarning: invalid value encountered in long_scalars\n",
      "  # This is added back by InteractiveShellApp.init_path()\n"
     ]
    },
    {
     "data": {
      "text/plain": [
       "0.04499385749385749"
      ]
     },
     "execution_count": 14,
     "metadata": {},
     "output_type": "execute_result"
    }
   ],
   "source": [
    "get_TNR_vec(0.98,50, np_train, np_test)"
   ]
  }
 ],
 "metadata": {
  "kernelspec": {
   "display_name": "Python 3",
   "language": "python",
   "name": "python3"
  },
  "language_info": {
   "codemirror_mode": {
    "name": "ipython",
    "version": 3
   },
   "file_extension": ".py",
   "mimetype": "text/x-python",
   "name": "python",
   "nbconvert_exporter": "python",
   "pygments_lexer": "ipython3",
   "version": "3.7.6"
  }
 },
 "nbformat": 4,
 "nbformat_minor": 4
}
